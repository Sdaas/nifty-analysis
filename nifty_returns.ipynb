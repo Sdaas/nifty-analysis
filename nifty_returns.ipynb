{
 "cells": [
  {
   "cell_type": "code",
   "execution_count": null,
   "metadata": {},
   "outputs": [],
   "source": [
    "import pandas as pd"
   ]
  },
  {
   "cell_type": "code",
   "execution_count": null,
   "metadata": {},
   "outputs": [],
   "source": [
    "# Utility Functions and tests for them\n",
    "\n",
    "# Get the closing price on the specified date. If there is no entry for that particular date, it will return the value\n",
    "# for the previous date when the value is available. The date can be specified either as a datetime or as a string. It is \n",
    "# assumed that the date and closing value are in a column called Date and Close respectively\n",
    "def get_closing_on_date(df,date) :\n",
    "    \n",
    "    def inner_get_closing_on_date(df, date, min_date, max_date):\n",
    "        \n",
    "        #print(\"date = \", date,min_date,max_date)\n",
    "        # Sanity Check of range\n",
    "        if date > max_date or date < min_date :\n",
    "            assert False, \"get_closing_on_date() called with a date that is outside the range\"\n",
    "            \n",
    "        filtered_df = df[df.Date == date]\n",
    "        rows = len(filtered_df)\n",
    "        if rows == 1 :\n",
    "            # we found a single record with this data\n",
    "            return filtered_df.iloc[0].Close\n",
    "        elif rows == 0 :\n",
    "            new_date = date - pd.DateOffset(days=1)  # try the previous date. Can also use pd.Timedelta(1, unit='d')\n",
    "            return inner_get_closing_on_date(df, new_date, min_date, max_date)\n",
    "        else:\n",
    "            # this should never happened\n",
    "            assert False, \"get_closing_on_date() found multiple records with the same date\"\n",
    "    \n",
    "    # call the inner function\n",
    "    min_date = df.Date.min()\n",
    "    max_date = df.Date.max()\n",
    "    d = pd.to_datetime(date)\n",
    "    return inner_get_closing_on_date(df, d, min_date, max_date)\n",
    "\n",
    "# Test Data ...\n",
    "test_data = { \"Date\" : [\"2020 Jan 01\", \"2019 Dec 31\", \"2019 Dec 30\", \"2019 Dec 26\", \"2019 Dec 24\"],\n",
    "        \"Close\": [100.0, 200.0, 300.0, 400.0, 500.0]}\n",
    "test_df = pd.DataFrame(test_data)\n",
    "test_df['Date'] = pd.to_datetime(test_df['Date']) # reformat the date from string to datetime\n",
    "\n",
    "# Simple tests ....\n",
    "assert get_closing_on_date(test_df,\"2019-12-24\") == 500.0, 'Test Failed for 2019-12-24'\n",
    "assert get_closing_on_date(test_df, pd.to_datetime(\"2019-12-26\")) == 400.0, 'Test Failed for 2019-12-26'\n",
    "\n",
    "# Tests for dates where data is missing\n",
    "assert get_closing_on_date(test_df,\"2019-12-25\") == 500.0, 'Test Failed for 2019-12-25'\n",
    "assert get_closing_on_date(test_df, pd.to_datetime(\"2019-12-29\")) == 400.0, 'Test Failed for 2019-12-29'\n",
    "\n",
    "# Tests for dates that are on the max/min of date range\n",
    "assert get_closing_on_date(test_df,\"2019-12-24\") == 500.0, 'Test Failed for 2019-12-24'\n",
    "assert get_closing_on_date(test_df,\"2020-01-01\") == 100.0, 'Test Failed for 2019-01-01'\n",
    "\n",
    "# What happens if the input date is earlier than the earliest date ? \n",
    "#get_closing_on_date(test_df,\"2019-12-20\")\n"
   ]
  },
  {
   "cell_type": "code",
   "execution_count": null,
   "metadata": {},
   "outputs": [],
   "source": [
    "df = pd.read_csv('NIFTY 50_Data.csv',sep=\",\") \n",
    "df['Date'] = pd.to_datetime(df['Date'], format='%d %b %Y') # reformat the date from string to datetime\n",
    "df.drop( ['Open', 'High', 'Low'], axis=1, inplace=True)  # remove the columns we don't need\n",
    "df.head()"
   ]
  },
  {
   "cell_type": "code",
   "execution_count": null,
   "metadata": {},
   "outputs": [],
   "source": []
  }
 ],
 "metadata": {
  "kernelspec": {
   "display_name": "Python 3",
   "language": "python",
   "name": "python3"
  },
  "language_info": {
   "codemirror_mode": {
    "name": "ipython",
    "version": 3
   },
   "file_extension": ".py",
   "mimetype": "text/x-python",
   "name": "python",
   "nbconvert_exporter": "python",
   "pygments_lexer": "ipython3",
   "version": "3.5.4"
  }
 },
 "nbformat": 4,
 "nbformat_minor": 2
}
