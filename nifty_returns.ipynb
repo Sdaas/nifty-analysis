{
 "cells": [
  {
   "cell_type": "code",
   "execution_count": 1,
   "metadata": {},
   "outputs": [],
   "source": [
    "import numpy as np\n",
    "import pandas as pd\n",
    "import matplotlib.pyplot as plt"
   ]
  },
  {
   "cell_type": "code",
   "execution_count": 2,
   "metadata": {},
   "outputs": [],
   "source": [
    "# Utility Functions and tests for them\n",
    "\n",
    "# Get the closing price on the specified date. If there is no entry for that particular date, it will return the value\n",
    "# for the previous date when the value is available. The date can be specified either as a datetime or as a string. It is \n",
    "# assumed that the date and closing value are in a column called Date and Close respectively\n",
    "def get_closing_on_date(df,date) :\n",
    "    \n",
    "    def inner_get_closing_on_date(df, date, min_date, max_date):\n",
    "        \n",
    "        #print(\"date = \", date,min_date,max_date)\n",
    "        # Sanity Check of range\n",
    "        if date > max_date or date < min_date :\n",
    "            assert False, \"get_closing_on_date() called with a date that is outside the range\"\n",
    "            \n",
    "        filtered_df = df[df.Date == date]\n",
    "        rows = len(filtered_df)\n",
    "        if rows == 1 :\n",
    "            # we found a single record with this data\n",
    "            return filtered_df.iloc[0].Close\n",
    "        elif rows == 0 :\n",
    "            new_date = date - pd.DateOffset(days=1)  # try the previous date. Can also use pd.Timedelta(1, unit='d')\n",
    "            return inner_get_closing_on_date(df, new_date, min_date, max_date)\n",
    "        else:\n",
    "            # this should never happened\n",
    "            assert False, \"get_closing_on_date() found multiple records with the same date\"\n",
    "    \n",
    "    # call the inner function\n",
    "    min_date = df.Date.min()\n",
    "    max_date = df.Date.max()\n",
    "    d = pd.to_datetime(date)\n",
    "    return inner_get_closing_on_date(df, d, min_date, max_date)\n",
    "\n",
    "# Test Data ...\n",
    "test_data = { \"Date\" : [\"2020 Jan 01\", \"2019 Dec 31\", \"2019 Dec 30\", \"2019 Dec 26\", \"2019 Dec 24\"],\n",
    "        \"Close\": [100.0, 200.0, 300.0, 400.0, 500.0]}\n",
    "test_df = pd.DataFrame(test_data)\n",
    "test_df['Date'] = pd.to_datetime(test_df['Date']) # reformat the date from string to datetime\n",
    "\n",
    "# Simple tests ....\n",
    "assert get_closing_on_date(test_df,\"2019-12-24\") == 500.0, 'Test Failed for 2019-12-24'\n",
    "assert get_closing_on_date(test_df, pd.to_datetime(\"2019-12-26\")) == 400.0, 'Test Failed for 2019-12-26'\n",
    "\n",
    "# Tests for dates where data is missing\n",
    "assert get_closing_on_date(test_df,\"2019-12-25\") == 500.0, 'Test Failed for 2019-12-25'\n",
    "assert get_closing_on_date(test_df, pd.to_datetime(\"2019-12-29\")) == 400.0, 'Test Failed for 2019-12-29'\n",
    "\n",
    "# Tests for dates that are on the max/min of date range\n",
    "assert get_closing_on_date(test_df,\"2019-12-24\") == 500.0, 'Test Failed for 2019-12-24'\n",
    "assert get_closing_on_date(test_df,\"2020-01-01\") == 100.0, 'Test Failed for 2019-01-01'\n",
    "\n",
    "# What happens if the input date is earlier than the earliest date ? \n",
    "#get_closing_on_date(test_df,\"2019-12-20\")\n"
   ]
  },
  {
   "cell_type": "code",
   "execution_count": 3,
   "metadata": {},
   "outputs": [],
   "source": [
    "def generate_dates(starting_date,ending_date) :\n",
    "    d = starting_date\n",
    "    dates = []\n",
    "    while d < ending_date:\n",
    "        dates.append(d)\n",
    "        d = d + pd.DateOffset(months=1)\n",
    "    return dates\n",
    "\n",
    "# Given the index in index_df, return the index value on the 1st of the month for every month\n",
    "# between starting_date and ending_date. Also give the value of the index number_of_months into\n",
    "# the future from that date\n",
    "def index_return(index_df, starting_date, ending_date, number_of_months=12):\n",
    "    dates = generate_dates(starting_date, ending_date)\n",
    "    offset = pd.DateOffset(months=number_of_months)\n",
    "    df = pd.DataFrame({\"Date\": dates})\n",
    "    df['Close'] = df['Date'].apply(lambda d : get_closing_on_date(index_df, d))\n",
    "    df['FutureDate'] = df['Date'].apply(lambda d : d + offset)\n",
    "    df['FutureClose'] = df['FutureDate'].apply(lambda d : get_closing_on_date(index_df,d))\n",
    "    df['Gain'] = df['FutureClose'] / df['Close'] * 100.0 - 100.00\n",
    "    return df\n"
   ]
  },
  {
   "cell_type": "code",
   "execution_count": 4,
   "metadata": {},
   "outputs": [],
   "source": [
    "# Load the Index data from a CSV File\n",
    "def load_index_data(filename):\n",
    "    df = pd.read_csv(filename,sep=\",\") \n",
    "    df['Date'] = pd.to_datetime(df['Date'], format='%d %b %Y') # reformat the date from string to datetime\n",
    "    df.drop( ['Open', 'High', 'Low'], axis=1, inplace=True)  # remove the columns we don't need\n",
    "    return df\n",
    "    "
   ]
  },
  {
   "cell_type": "code",
   "execution_count": 5,
   "metadata": {},
   "outputs": [],
   "source": [
    "# Returns the number of times a certaiin amount of gain has happened \n",
    "def gain_frequency(df):\n",
    "    # Series that contains the gains\n",
    "    gains = df.Gain\n",
    "\n",
    "    # The minimum and maximum %age gains in this data set\n",
    "    min = gains.min()\n",
    "    max = gains.max()\n",
    "    print(min,max)\n",
    "    \n",
    "    # Figure out the lowest and max limit in multiples\n",
    "    min = int(round(min))-2.5\n",
    "    max = int(round(max))+2.5\n",
    "    print(min,max)\n",
    "\n",
    "    # Generate the bins\n",
    "    bins=list(np.arange(min, max, 1.0))\n",
    "    #print(list(bins))\n",
    "    \n",
    "    tmp_df = pd.cut(gains,bins=bins).value_counts().to_frame().reset_index()\n",
    "    tmp_df.rename(columns={'Gain':'Count'}, inplace=True)\n",
    "    tmp_df['Gain'] = tmp_df['index'].apply(lambda x : x.mid)\n",
    "    tmp_df.sort_values('Gain', ascending=True,inplace=True)\n",
    "    tmp_df.drop( ['index'], axis=1, inplace=True)\n",
    "    \n",
    "    out = tmp_df[['Gain', 'Count']]\n",
    "    out.reset_index(drop=True,inplace=True)\n",
    "    return out"
   ]
  },
  {
   "cell_type": "code",
   "execution_count": 27,
   "metadata": {},
   "outputs": [],
   "source": [
    "# What is the proability that the gain is g percent or less\n",
    "def prob_min_gain(cdf, g) :\n",
    "    g = int(g)\n",
    "    tmp = cdf.copy(deep=True)\n",
    "    tmp = tmp[tmp.Gain >= g]\n",
    "    tmp.reset_index(inplace=True)\n",
    "    return tmp.Probability.iloc[0]\n",
    "    print(tmp.head())\n",
    "    "
   ]
  },
  {
   "cell_type": "code",
   "execution_count": 28,
   "metadata": {},
   "outputs": [],
   "source": [
    "# Returns a Cumulative Distribution (CDF) against the gains ...\n",
    "def cdf(freq) :\n",
    "    df = freq.copy(deep=True)\n",
    "    n = df.Count.sum()\n",
    "    df['CumCount'] = df.Count.cumsum()\n",
    "    df['Probability'] = df.CumCount / n\n",
    "    df.drop(['Count', 'CumCount'], axis=1, inplace=True)\n",
    "    return df"
   ]
  },
  {
   "cell_type": "markdown",
   "metadata": {},
   "source": [
    "## Main Analysis starts here ...\n",
    "\n",
    "Load the NIFTY data, and compute the gains over a 12- and 60- month intervals and store it in nifty12 and nifty60 respectively."
   ]
  },
  {
   "cell_type": "code",
   "execution_count": 29,
   "metadata": {},
   "outputs": [],
   "source": [
    "nifty = load_index_data('NIFTY 50_Data.csv')\n",
    "starting_date = pd.to_datetime('1991-01-01')\n",
    "ending_date = pd.to_datetime('2014-05-31')\n",
    "nifty60 = index_return(nifty, starting_date, ending_date,number_of_months=60)\n",
    "nifty12 = index_return(nifty, starting_date, ending_date,number_of_months=12)\n",
    "#nifty_monthly.head(10)"
   ]
  },
  {
   "cell_type": "code",
   "execution_count": 30,
   "metadata": {},
   "outputs": [
    {
     "data": {
      "text/html": [
       "<div>\n",
       "<style scoped>\n",
       "    .dataframe tbody tr th:only-of-type {\n",
       "        vertical-align: middle;\n",
       "    }\n",
       "\n",
       "    .dataframe tbody tr th {\n",
       "        vertical-align: top;\n",
       "    }\n",
       "\n",
       "    .dataframe thead th {\n",
       "        text-align: right;\n",
       "    }\n",
       "</style>\n",
       "<table border=\"1\" class=\"dataframe\">\n",
       "  <thead>\n",
       "    <tr style=\"text-align: right;\">\n",
       "      <th></th>\n",
       "      <th>Date</th>\n",
       "      <th>Close</th>\n",
       "      <th>FutureDate</th>\n",
       "      <th>FutureClose</th>\n",
       "      <th>Gain</th>\n",
       "    </tr>\n",
       "  </thead>\n",
       "  <tbody>\n",
       "    <tr>\n",
       "      <th>0</th>\n",
       "      <td>1991-01-01</td>\n",
       "      <td>330.86</td>\n",
       "      <td>1996-01-01</td>\n",
       "      <td>908.01</td>\n",
       "      <td>174.439340</td>\n",
       "    </tr>\n",
       "    <tr>\n",
       "      <th>1</th>\n",
       "      <td>1991-02-01</td>\n",
       "      <td>324.29</td>\n",
       "      <td>1996-02-01</td>\n",
       "      <td>869.54</td>\n",
       "      <td>168.136544</td>\n",
       "    </tr>\n",
       "    <tr>\n",
       "      <th>2</th>\n",
       "      <td>1991-03-01</td>\n",
       "      <td>379.94</td>\n",
       "      <td>1996-03-01</td>\n",
       "      <td>999.47</td>\n",
       "      <td>163.059957</td>\n",
       "    </tr>\n",
       "    <tr>\n",
       "      <th>3</th>\n",
       "      <td>1991-04-01</td>\n",
       "      <td>372.70</td>\n",
       "      <td>1996-04-01</td>\n",
       "      <td>994.80</td>\n",
       "      <td>166.917091</td>\n",
       "    </tr>\n",
       "    <tr>\n",
       "      <th>4</th>\n",
       "      <td>1991-05-01</td>\n",
       "      <td>389.01</td>\n",
       "      <td>1996-05-01</td>\n",
       "      <td>1137.86</td>\n",
       "      <td>192.501478</td>\n",
       "    </tr>\n",
       "  </tbody>\n",
       "</table>\n",
       "</div>"
      ],
      "text/plain": [
       "        Date   Close FutureDate  FutureClose        Gain\n",
       "0 1991-01-01  330.86 1996-01-01       908.01  174.439340\n",
       "1 1991-02-01  324.29 1996-02-01       869.54  168.136544\n",
       "2 1991-03-01  379.94 1996-03-01       999.47  163.059957\n",
       "3 1991-04-01  372.70 1996-04-01       994.80  166.917091\n",
       "4 1991-05-01  389.01 1996-05-01      1137.86  192.501478"
      ]
     },
     "execution_count": 30,
     "metadata": {},
     "output_type": "execute_result"
    }
   ],
   "source": [
    "nifty60.head()"
   ]
  },
  {
   "cell_type": "markdown",
   "metadata": {},
   "source": [
    "## How much am I likely to gain in NIFTY over a period of 5 years ?"
   ]
  },
  {
   "cell_type": "code",
   "execution_count": 31,
   "metadata": {},
   "outputs": [
    {
     "name": "stdout",
     "output_type": "stream",
     "text": [
      "-23.560690445797732 516.5799569078774\n",
      "-26.5 519.5\n"
     ]
    },
    {
     "data": {
      "image/png": "[encoded data removed]",
      "text/plain": [
       "<Figure size 432x288 with 1 Axes>"
      ]
     },
     "metadata": {
      "needs_background": "light"
     },
     "output_type": "display_data"
    }
   ],
   "source": [
    "gfreq60 = gain_frequency(nifty60)\n",
    "gcdf = cdf(gfreq60)\n",
    "gcdf.plot(x='Gain',y='Probability',color='red')\n",
    "plt.grid(True)"
   ]
  },
  {
   "cell_type": "markdown",
   "metadata": {},
   "source": [
    "The y-axis is the probability that the gain over the interval will be x-axis or less. For example, there is a 60% probability that the total gain over a 60 month interval will be 74% or less."
   ]
  },
  {
   "cell_type": "code",
   "execution_count": 32,
   "metadata": {},
   "outputs": [
    {
     "data": {
      "text/plain": [
       "0.597864768683274"
      ]
     },
     "execution_count": 32,
     "metadata": {},
     "output_type": "execute_result"
    }
   ],
   "source": [
    "prob_min_gain(gcdf,74)"
   ]
  },
  {
   "cell_type": "code",
   "execution_count": 33,
   "metadata": {},
   "outputs": [
    {
     "data": {
      "text/plain": [
       "0.099644128113879"
      ]
     },
     "execution_count": 33,
     "metadata": {},
     "output_type": "execute_result"
    }
   ],
   "source": [
    "prob_min_gain(gcdf, 0)"
   ]
  },
  {
   "cell_type": "markdown",
   "metadata": {},
   "source": [
    "This means that there is a ~10% chance of losing money (i.e. gain <= 0 ) over a 60 month interval"
   ]
  },
  {
   "cell_type": "markdown",
   "metadata": {},
   "source": [
    "## How much am I likely to gain with FD over a period of 5 years ?\n",
    "\n",
    "Here we will assume that the interest rate remains fixed over the 5 years."
   ]
  },
  {
   "cell_type": "code",
   "execution_count": 34,
   "metadata": {},
   "outputs": [
    {
     "data": {
      "text/plain": [
       "37.00866634156246"
      ]
     },
     "execution_count": 34,
     "metadata": {},
     "output_type": "execute_result"
    }
   ],
   "source": [
    "annual_interest_rate = 6.5   # express the annual interest rate in percentage\n",
    "r = annual_interest_rate / 100\n",
    "end_value = (1+r) ** 5\n",
    "gain = (end_value - 1) * 100 # Gain expressed as a percentage\n",
    "gain"
   ]
  },
  {
   "cell_type": "code",
   "execution_count": 36,
   "metadata": {},
   "outputs": [
    {
     "data": {
      "text/plain": [
       "0.33807829181494664"
      ]
     },
     "execution_count": 36,
     "metadata": {},
     "output_type": "execute_result"
    }
   ],
   "source": [
    "prob_min_gain(gcdf, gain)"
   ]
  },
  {
   "cell_type": "markdown",
   "metadata": {},
   "source": [
    "This means there is a 33% chance that over a period of 5 years you will make more money with FD than with NIFTY"
   ]
  },
  {
   "cell_type": "code",
   "execution_count": null,
   "metadata": {},
   "outputs": [],
   "source": []
  }
 ],
 "metadata": {
  "kernelspec": {
   "display_name": "Python 3",
   "language": "python",
   "name": "python3"
  },
  "language_info": {
   "codemirror_mode": {
    "name": "ipython",
    "version": 3
   },
   "file_extension": ".py",
   "mimetype": "text/x-python",
   "name": "python",
   "nbconvert_exporter": "python",
   "pygments_lexer": "ipython3",
   "version": "3.5.4"
  }
 },
 "nbformat": 4,
 "nbformat_minor": 2
}
